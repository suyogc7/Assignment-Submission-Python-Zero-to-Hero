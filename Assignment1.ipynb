{
  "nbformat": 4,
  "nbformat_minor": 0,
  "metadata": {
    "colab": {
      "name": "Assignment1.ipynb",
      "provenance": [],
      "collapsed_sections": []
    },
    "kernelspec": {
      "name": "python3",
      "display_name": "Python 3"
    },
    "language_info": {
      "name": "python"
    }
  },
  "cells": [
    {
      "cell_type": "markdown",
      "source": [
        "Assignment 1: Take Multiple integers in input and print sum of them."
      ],
      "metadata": {
        "id": "cG9QLkQ-6iwb"
      }
    },
    {
      "cell_type": "code",
      "execution_count": 2,
      "metadata": {
        "colab": {
          "base_uri": "https://localhost:8080/"
        },
        "id": "d8wWhpaU59kF",
        "outputId": "e2be039d-deb0-4851-d53f-711277670f79"
      },
      "outputs": [
        {
          "output_type": "stream",
          "name": "stdout",
          "text": [
            "Enter the values:1 2 3\n",
            "[1, 2, 3]\n",
            "6\n"
          ]
        }
      ],
      "source": [
        "x = [int (i) for i in input(\"Enter the values:\").split()]\n",
        "print(x)\n",
        "print(sum(x))"
      ]
    }
  ]
}